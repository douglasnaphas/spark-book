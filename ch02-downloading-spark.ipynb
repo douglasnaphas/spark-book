{
 "cells": [
  {
   "cell_type": "code",
   "execution_count": 0,
   "metadata": {
    "application/vnd.databricks.v1+cell": {
     "cellMetadata": {
      "byteLimit": 2048000,
      "rowLimit": 10000
     },
     "inputWidgets": {},
     "nuid": "fc91a804-63d8-486c-8c6d-6250e9ac4f98",
     "showTitle": false,
     "tableResultSettingsMap": {},
     "title": ""
    }
   },
   "outputs": [],
   "source": [
    "import sys\n",
    "\n",
    "print(f\"Python version: {sys.version}\")"
   ]
  },
  {
   "cell_type": "code",
   "execution_count": 0,
   "metadata": {
    "application/vnd.databricks.v1+cell": {
     "cellMetadata": {
      "byteLimit": 2048000,
      "rowLimit": 10000
     },
     "inputWidgets": {},
     "nuid": "e3b6b1e7-6335-4bd4-a0d5-da4e86142a44",
     "showTitle": false,
     "tableResultSettingsMap": {},
     "title": ""
    }
   },
   "outputs": [],
   "source": [
    "import os\n",
    "\n",
    "def find_spark_executable():\n",
    "    for path in os.environ[\"PATH\"].split(os.pathsep):\n",
    "        spark_submit_path = os.path.join(path, \"spark-submit\")\n",
    "        if os.path.isfile(spark_submit_path) and os.access(spark_submit_path, os.X_OK):\n",
    "            return spark_submit_path\n",
    "    return None\n",
    "\n",
    "spark_executable_path = find_spark_executable()\n",
    "\n",
    "if spark_executable_path:\n",
    "    spark_dir = os.path.dirname(spark_executable_path)\n",
    "    print(f\"Spark executable path: {spark_executable_path}\")\n",
    "    print(f\"Contents of {spark_dir}:\")\n",
    "    for item in os.listdir(spark_dir):\n",
    "        item_path = os.path.join(spark_dir, item)\n",
    "        if os.path.isdir(item_path):\n",
    "            print(f\"{item}/\")\n",
    "        else:\n",
    "            print(item)\n",
    "else:\n",
    "    print(\"Spark executable not found in PATH.\")"
   ]
  }
 ],
 "metadata": {
  "application/vnd.databricks.v1+notebook": {
   "computePreferences": {
    "hardware": {
     "accelerator": null,
     "gpuPoolId": null,
     "memory": null
    }
   },
   "dashboards": [],
   "environmentMetadata": {
    "base_environment": "",
    "environment_version": "3"
   },
   "inputWidgetPreferences": null,
   "language": "python",
   "notebookMetadata": {
    "pythonIndentUnit": 4
   },
   "notebookName": "ch02-downloading-spark",
   "widgets": {}
  },
  "language_info": {
   "name": "python"
  }
 },
 "nbformat": 4,
 "nbformat_minor": 0
}
